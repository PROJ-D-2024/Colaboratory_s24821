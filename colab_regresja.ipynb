{
  "cells": [
    {
      "cell_type": "markdown",
      "id": "408328a6",
      "metadata": {
        "id": "408328a6"
      },
      "source": [
        "\n",
        "# 👩‍💻 Wprowadzenie do Google Colab + prosta regresja liniowa\n",
        "\n",
        "W tym notatniku:\n",
        "1. Założysz/zweryfikujesz konto Google.\n",
        "2. Dowiesz się **jak znaleźć Google Colab z poziomu Gmaila**.\n",
        "3. Uruchomisz pierwsze komórki i zainstalujesz biblioteki.\n",
        "4. Zrobisz **proste zadanie z regresją liniową** (przewidywanie ceny mieszkania na podstawie metrażu).\n",
        "5. Zapiszesz wyniki i **umieścisz projekt na GitHubie**.\n"
      ]
    },
    {
      "cell_type": "markdown",
      "id": "be2fb99e",
      "metadata": {
        "id": "be2fb99e"
      },
      "source": [
        "\n",
        "## 1) Konto Google – szybka instrukcja\n",
        "- Wejdź na [accounts.google.com/signup](https://accounts.google.com/signup).\n",
        "- Wypełnij formularz i **utwórz konto Google** (jeśli już masz – po prostu się zaloguj).\n",
        "- Po zalogowaniu przejdź do **Gmaila**: [mail.google.com](https://mail.google.com).\n",
        "\n",
        "## 2) Jak znaleźć **Google Colab** z poziomu Gmaila\n",
        "1. Będąc w Gmailu, kliknij **menu aplikacji Google** (ikona 9 kropek w prawym górnym rogu).\n",
        "2. W wyświetlonej siatce aplikacji kliknij **Colab**.  \n",
        "   > Jeśli nie widzisz Colab na liście: wybierz **„Więcej z Google”** lub wpisz w pasku adresu **https://colab.research.google.com** i naciśnij Enter.\n",
        "3. W Colab wybierz: **File → Upload notebook** (lub **Plik → Prześlij notatnik**) i wrzuć plik `colab_regresja.ipynb` z tego projektu.\n",
        "\n",
        "> 💡 Alternatywnie możesz wybrać **File → Save a copy in Drive** i pracować na kopii w swoim Dysku Google.\n"
      ]
    },
    {
      "cell_type": "markdown",
      "id": "dd27b16c",
      "metadata": {
        "id": "dd27b16c"
      },
      "source": [
        "\n",
        "## 3) Podstawy pracy w Colab\n",
        "- Komórki **Markdown** (takie jak ta) służą do tekstu i formatowania.\n",
        "- Komórki **Code** służą do uruchamiania kodu Pythona.\n",
        "- Uruchamiasz komórkę skrótem **Ctrl+Enter** (lub **Shift+Enter** żeby uruchomić i przejść dalej).\n",
        "- Po lewej możesz włączyć podgląd **plików** i przeciągać/ładować dane (np. CSV).\n",
        "\n",
        "Poniżej sprawdzimy wersję Pythona i zainstalujemy biblioteki (jeśli byłoby trzeba).\n"
      ]
    },
    {
      "cell_type": "code",
      "execution_count": 1,
      "id": "da9183ea",
      "metadata": {
        "colab": {
          "base_uri": "https://localhost:8080/"
        },
        "id": "da9183ea",
        "outputId": "2db396d7-ad83-4694-b345-802ca4e21abc"
      },
      "outputs": [
        {
          "output_type": "stream",
          "name": "stdout",
          "text": [
            "Wersja Pythona: 3.12.12 (main, Oct 10 2025, 08:52:57) [GCC 11.4.0]\n",
            "Platforma: Linux-6.6.105+-x86_64-with-glibc2.35\n"
          ]
        }
      ],
      "source": [
        "\n",
        "import sys, platform\n",
        "print(\"Wersja Pythona:\", sys.version)\n",
        "print(\"Platforma:\", platform.platform())\n"
      ]
    },
    {
      "cell_type": "markdown",
      "id": "9a6de680",
      "metadata": {
        "id": "9a6de680"
      },
      "source": [
        "\n",
        "## 4) Instalacja bibliotek (tylko jeśli potrzeba)\n",
        "W Colab większość bibliotek jest już dostępna. Jeśli jednak czegoś brakuje, użyj `pip`:\n"
      ]
    },
    {
      "cell_type": "code",
      "execution_count": null,
      "id": "ec495767",
      "metadata": {
        "colab": {
          "base_uri": "https://localhost:8080/"
        },
        "id": "ec495767",
        "outputId": "ff4ef1e7-0aba-4111-b66e-6662d0c51d5d"
      },
      "outputs": [
        {
          "output_type": "stream",
          "name": "stdout",
          "text": [
            "Requirement already satisfied: numpy in /usr/local/lib/python3.12/dist-packages (2.0.2)\n",
            "Requirement already satisfied: pandas in /usr/local/lib/python3.12/dist-packages (2.2.2)\n",
            "Requirement already satisfied: scikit-learn in /usr/local/lib/python3.12/dist-packages (1.6.1)\n",
            "Requirement already satisfied: matplotlib in /usr/local/lib/python3.12/dist-packages (3.10.0)\n",
            "Requirement already satisfied: python-dateutil>=2.8.2 in /usr/local/lib/python3.12/dist-packages (from pandas) (2.9.0.post0)\n",
            "Requirement already satisfied: pytz>=2020.1 in /usr/local/lib/python3.12/dist-packages (from pandas) (2025.2)\n",
            "Requirement already satisfied: tzdata>=2022.7 in /usr/local/lib/python3.12/dist-packages (from pandas) (2025.2)\n",
            "Requirement already satisfied: scipy>=1.6.0 in /usr/local/lib/python3.12/dist-packages (from scikit-learn) (1.16.2)\n",
            "Requirement already satisfied: joblib>=1.2.0 in /usr/local/lib/python3.12/dist-packages (from scikit-learn) (1.5.2)\n",
            "Requirement already satisfied: threadpoolctl>=3.1.0 in /usr/local/lib/python3.12/dist-packages (from scikit-learn) (3.6.0)\n",
            "Requirement already satisfied: contourpy>=1.0.1 in /usr/local/lib/python3.12/dist-packages (from matplotlib) (1.3.3)\n",
            "Requirement already satisfied: cycler>=0.10 in /usr/local/lib/python3.12/dist-packages (from matplotlib) (0.12.1)\n",
            "Requirement already satisfied: fonttools>=4.22.0 in /usr/local/lib/python3.12/dist-packages (from matplotlib) (4.60.1)\n",
            "Requirement already satisfied: kiwisolver>=1.3.1 in /usr/local/lib/python3.12/dist-packages (from matplotlib) (1.4.9)\n",
            "Requirement already satisfied: packaging>=20.0 in /usr/local/lib/python3.12/dist-packages (from matplotlib) (25.0)\n",
            "Requirement already satisfied: pillow>=8 in /usr/local/lib/python3.12/dist-packages (from matplotlib) (11.3.0)\n",
            "Requirement already satisfied: pyparsing>=2.3.1 in /usr/local/lib/python3.12/dist-packages (from matplotlib) (3.2.5)\n",
            "Requirement already satisfied: six>=1.5 in /usr/local/lib/python3.12/dist-packages (from python-dateutil>=2.8.2->pandas) (1.17.0)\n"
          ]
        }
      ],
      "source": [
        "\n",
        "# Odkomentuj, jeśli potrzebujesz doinstalować lokalnie lub w niestandardowym środowisku:\n",
        "!pip install numpy pandas scikit-learn matplotlib\n"
      ]
    },
    {
      "cell_type": "markdown",
      "id": "5729f7eb",
      "metadata": {
        "id": "5729f7eb"
      },
      "source": [
        "\n",
        "## 5) Dane: `mieszkania.csv`\n",
        "Masz w projekcie plik z przykładowymi danymi: **metraż (m²)** i **cena (tys. zł)**.\n",
        "\n",
        "Opcja A – wczytaj lokalny plik (po lewej w Colab kliknij **Files**, wgraj `mieszkania.csv` i uruchom poniższą komórkę):\n"
      ]
    },
    {
      "cell_type": "code",
      "execution_count": 3,
      "id": "34c3c570",
      "metadata": {
        "colab": {
          "base_uri": "https://localhost:8080/",
          "height": 206
        },
        "id": "34c3c570",
        "outputId": "433fe52f-ea98-4137-8fc9-f31e6a569de2"
      },
      "outputs": [
        {
          "output_type": "execute_result",
          "data": {
            "text/plain": [
              "   metraz_m2  cena_tys\n",
              "0         35       310\n",
              "1         42       355\n",
              "2         50       395\n",
              "3         57       430\n",
              "4         65       470"
            ],
            "text/html": [
              "\n",
              "  <div id=\"df-c5cb881a-3f51-495f-884c-665e2ed0da8b\" class=\"colab-df-container\">\n",
              "    <div>\n",
              "<style scoped>\n",
              "    .dataframe tbody tr th:only-of-type {\n",
              "        vertical-align: middle;\n",
              "    }\n",
              "\n",
              "    .dataframe tbody tr th {\n",
              "        vertical-align: top;\n",
              "    }\n",
              "\n",
              "    .dataframe thead th {\n",
              "        text-align: right;\n",
              "    }\n",
              "</style>\n",
              "<table border=\"1\" class=\"dataframe\">\n",
              "  <thead>\n",
              "    <tr style=\"text-align: right;\">\n",
              "      <th></th>\n",
              "      <th>metraz_m2</th>\n",
              "      <th>cena_tys</th>\n",
              "    </tr>\n",
              "  </thead>\n",
              "  <tbody>\n",
              "    <tr>\n",
              "      <th>0</th>\n",
              "      <td>35</td>\n",
              "      <td>310</td>\n",
              "    </tr>\n",
              "    <tr>\n",
              "      <th>1</th>\n",
              "      <td>42</td>\n",
              "      <td>355</td>\n",
              "    </tr>\n",
              "    <tr>\n",
              "      <th>2</th>\n",
              "      <td>50</td>\n",
              "      <td>395</td>\n",
              "    </tr>\n",
              "    <tr>\n",
              "      <th>3</th>\n",
              "      <td>57</td>\n",
              "      <td>430</td>\n",
              "    </tr>\n",
              "    <tr>\n",
              "      <th>4</th>\n",
              "      <td>65</td>\n",
              "      <td>470</td>\n",
              "    </tr>\n",
              "  </tbody>\n",
              "</table>\n",
              "</div>\n",
              "    <div class=\"colab-df-buttons\">\n",
              "\n",
              "  <div class=\"colab-df-container\">\n",
              "    <button class=\"colab-df-convert\" onclick=\"convertToInteractive('df-c5cb881a-3f51-495f-884c-665e2ed0da8b')\"\n",
              "            title=\"Convert this dataframe to an interactive table.\"\n",
              "            style=\"display:none;\">\n",
              "\n",
              "  <svg xmlns=\"http://www.w3.org/2000/svg\" height=\"24px\" viewBox=\"0 -960 960 960\">\n",
              "    <path d=\"M120-120v-720h720v720H120Zm60-500h600v-160H180v160Zm220 220h160v-160H400v160Zm0 220h160v-160H400v160ZM180-400h160v-160H180v160Zm440 0h160v-160H620v160ZM180-180h160v-160H180v160Zm440 0h160v-160H620v160Z\"/>\n",
              "  </svg>\n",
              "    </button>\n",
              "\n",
              "  <style>\n",
              "    .colab-df-container {\n",
              "      display:flex;\n",
              "      gap: 12px;\n",
              "    }\n",
              "\n",
              "    .colab-df-convert {\n",
              "      background-color: #E8F0FE;\n",
              "      border: none;\n",
              "      border-radius: 50%;\n",
              "      cursor: pointer;\n",
              "      display: none;\n",
              "      fill: #1967D2;\n",
              "      height: 32px;\n",
              "      padding: 0 0 0 0;\n",
              "      width: 32px;\n",
              "    }\n",
              "\n",
              "    .colab-df-convert:hover {\n",
              "      background-color: #E2EBFA;\n",
              "      box-shadow: 0px 1px 2px rgba(60, 64, 67, 0.3), 0px 1px 3px 1px rgba(60, 64, 67, 0.15);\n",
              "      fill: #174EA6;\n",
              "    }\n",
              "\n",
              "    .colab-df-buttons div {\n",
              "      margin-bottom: 4px;\n",
              "    }\n",
              "\n",
              "    [theme=dark] .colab-df-convert {\n",
              "      background-color: #3B4455;\n",
              "      fill: #D2E3FC;\n",
              "    }\n",
              "\n",
              "    [theme=dark] .colab-df-convert:hover {\n",
              "      background-color: #434B5C;\n",
              "      box-shadow: 0px 1px 3px 1px rgba(0, 0, 0, 0.15);\n",
              "      filter: drop-shadow(0px 1px 2px rgba(0, 0, 0, 0.3));\n",
              "      fill: #FFFFFF;\n",
              "    }\n",
              "  </style>\n",
              "\n",
              "    <script>\n",
              "      const buttonEl =\n",
              "        document.querySelector('#df-c5cb881a-3f51-495f-884c-665e2ed0da8b button.colab-df-convert');\n",
              "      buttonEl.style.display =\n",
              "        google.colab.kernel.accessAllowed ? 'block' : 'none';\n",
              "\n",
              "      async function convertToInteractive(key) {\n",
              "        const element = document.querySelector('#df-c5cb881a-3f51-495f-884c-665e2ed0da8b');\n",
              "        const dataTable =\n",
              "          await google.colab.kernel.invokeFunction('convertToInteractive',\n",
              "                                                    [key], {});\n",
              "        if (!dataTable) return;\n",
              "\n",
              "        const docLinkHtml = 'Like what you see? Visit the ' +\n",
              "          '<a target=\"_blank\" href=https://colab.research.google.com/notebooks/data_table.ipynb>data table notebook</a>'\n",
              "          + ' to learn more about interactive tables.';\n",
              "        element.innerHTML = '';\n",
              "        dataTable['output_type'] = 'display_data';\n",
              "        await google.colab.output.renderOutput(dataTable, element);\n",
              "        const docLink = document.createElement('div');\n",
              "        docLink.innerHTML = docLinkHtml;\n",
              "        element.appendChild(docLink);\n",
              "      }\n",
              "    </script>\n",
              "  </div>\n",
              "\n",
              "\n",
              "    <div id=\"df-c52d7eb7-038c-4d63-925b-f58c03d44dff\">\n",
              "      <button class=\"colab-df-quickchart\" onclick=\"quickchart('df-c52d7eb7-038c-4d63-925b-f58c03d44dff')\"\n",
              "                title=\"Suggest charts\"\n",
              "                style=\"display:none;\">\n",
              "\n",
              "<svg xmlns=\"http://www.w3.org/2000/svg\" height=\"24px\"viewBox=\"0 0 24 24\"\n",
              "     width=\"24px\">\n",
              "    <g>\n",
              "        <path d=\"M19 3H5c-1.1 0-2 .9-2 2v14c0 1.1.9 2 2 2h14c1.1 0 2-.9 2-2V5c0-1.1-.9-2-2-2zM9 17H7v-7h2v7zm4 0h-2V7h2v10zm4 0h-2v-4h2v4z\"/>\n",
              "    </g>\n",
              "</svg>\n",
              "      </button>\n",
              "\n",
              "<style>\n",
              "  .colab-df-quickchart {\n",
              "      --bg-color: #E8F0FE;\n",
              "      --fill-color: #1967D2;\n",
              "      --hover-bg-color: #E2EBFA;\n",
              "      --hover-fill-color: #174EA6;\n",
              "      --disabled-fill-color: #AAA;\n",
              "      --disabled-bg-color: #DDD;\n",
              "  }\n",
              "\n",
              "  [theme=dark] .colab-df-quickchart {\n",
              "      --bg-color: #3B4455;\n",
              "      --fill-color: #D2E3FC;\n",
              "      --hover-bg-color: #434B5C;\n",
              "      --hover-fill-color: #FFFFFF;\n",
              "      --disabled-bg-color: #3B4455;\n",
              "      --disabled-fill-color: #666;\n",
              "  }\n",
              "\n",
              "  .colab-df-quickchart {\n",
              "    background-color: var(--bg-color);\n",
              "    border: none;\n",
              "    border-radius: 50%;\n",
              "    cursor: pointer;\n",
              "    display: none;\n",
              "    fill: var(--fill-color);\n",
              "    height: 32px;\n",
              "    padding: 0;\n",
              "    width: 32px;\n",
              "  }\n",
              "\n",
              "  .colab-df-quickchart:hover {\n",
              "    background-color: var(--hover-bg-color);\n",
              "    box-shadow: 0 1px 2px rgba(60, 64, 67, 0.3), 0 1px 3px 1px rgba(60, 64, 67, 0.15);\n",
              "    fill: var(--button-hover-fill-color);\n",
              "  }\n",
              "\n",
              "  .colab-df-quickchart-complete:disabled,\n",
              "  .colab-df-quickchart-complete:disabled:hover {\n",
              "    background-color: var(--disabled-bg-color);\n",
              "    fill: var(--disabled-fill-color);\n",
              "    box-shadow: none;\n",
              "  }\n",
              "\n",
              "  .colab-df-spinner {\n",
              "    border: 2px solid var(--fill-color);\n",
              "    border-color: transparent;\n",
              "    border-bottom-color: var(--fill-color);\n",
              "    animation:\n",
              "      spin 1s steps(1) infinite;\n",
              "  }\n",
              "\n",
              "  @keyframes spin {\n",
              "    0% {\n",
              "      border-color: transparent;\n",
              "      border-bottom-color: var(--fill-color);\n",
              "      border-left-color: var(--fill-color);\n",
              "    }\n",
              "    20% {\n",
              "      border-color: transparent;\n",
              "      border-left-color: var(--fill-color);\n",
              "      border-top-color: var(--fill-color);\n",
              "    }\n",
              "    30% {\n",
              "      border-color: transparent;\n",
              "      border-left-color: var(--fill-color);\n",
              "      border-top-color: var(--fill-color);\n",
              "      border-right-color: var(--fill-color);\n",
              "    }\n",
              "    40% {\n",
              "      border-color: transparent;\n",
              "      border-right-color: var(--fill-color);\n",
              "      border-top-color: var(--fill-color);\n",
              "    }\n",
              "    60% {\n",
              "      border-color: transparent;\n",
              "      border-right-color: var(--fill-color);\n",
              "    }\n",
              "    80% {\n",
              "      border-color: transparent;\n",
              "      border-right-color: var(--fill-color);\n",
              "      border-bottom-color: var(--fill-color);\n",
              "    }\n",
              "    90% {\n",
              "      border-color: transparent;\n",
              "      border-bottom-color: var(--fill-color);\n",
              "    }\n",
              "  }\n",
              "</style>\n",
              "\n",
              "      <script>\n",
              "        async function quickchart(key) {\n",
              "          const quickchartButtonEl =\n",
              "            document.querySelector('#' + key + ' button');\n",
              "          quickchartButtonEl.disabled = true;  // To prevent multiple clicks.\n",
              "          quickchartButtonEl.classList.add('colab-df-spinner');\n",
              "          try {\n",
              "            const charts = await google.colab.kernel.invokeFunction(\n",
              "                'suggestCharts', [key], {});\n",
              "          } catch (error) {\n",
              "            console.error('Error during call to suggestCharts:', error);\n",
              "          }\n",
              "          quickchartButtonEl.classList.remove('colab-df-spinner');\n",
              "          quickchartButtonEl.classList.add('colab-df-quickchart-complete');\n",
              "        }\n",
              "        (() => {\n",
              "          let quickchartButtonEl =\n",
              "            document.querySelector('#df-c52d7eb7-038c-4d63-925b-f58c03d44dff button');\n",
              "          quickchartButtonEl.style.display =\n",
              "            google.colab.kernel.accessAllowed ? 'block' : 'none';\n",
              "        })();\n",
              "      </script>\n",
              "    </div>\n",
              "\n",
              "    </div>\n",
              "  </div>\n"
            ],
            "application/vnd.google.colaboratory.intrinsic+json": {
              "type": "dataframe",
              "variable_name": "df",
              "summary": "{\n  \"name\": \"df\",\n  \"rows\": 10,\n  \"fields\": [\n    {\n      \"column\": \"metraz_m2\",\n      \"properties\": {\n        \"dtype\": \"number\",\n        \"std\": 26,\n        \"min\": 35,\n        \"max\": 120,\n        \"num_unique_values\": 10,\n        \"samples\": [\n          100,\n          42,\n          72\n        ],\n        \"semantic_type\": \"\",\n        \"description\": \"\"\n      }\n    },\n    {\n      \"column\": \"cena_tys\",\n      \"properties\": {\n        \"dtype\": \"number\",\n        \"std\": 146,\n        \"min\": 310,\n        \"max\": 770,\n        \"num_unique_values\": 10,\n        \"samples\": [\n          670,\n          355,\n          515\n        ],\n        \"semantic_type\": \"\",\n        \"description\": \"\"\n      }\n    }\n  ]\n}"
            }
          },
          "metadata": {},
          "execution_count": 3
        }
      ],
      "source": [
        "\n",
        "import pandas as pd\n",
        "\n",
        "# Jeśli wgrałeś plik do Colab (po lewej zakładka Files) – ta ścieżka zadziała:\n",
        "df = pd.read_csv(\"mieszkania.csv\")\n",
        "df.head()\n"
      ]
    },
    {
      "cell_type": "markdown",
      "id": "0c55275b",
      "metadata": {
        "id": "0c55275b"
      },
      "source": [
        "\n",
        "**Opcja B – gdy plik jest na GitHubie:** po opublikowaniu repozytorium, kliknij w `mieszkania.csv` na GitHubie, wybierz **Raw** i skopiuj URL. Potem:\n"
      ]
    },
    {
      "cell_type": "code",
      "execution_count": null,
      "id": "ed2273fb",
      "metadata": {
        "id": "ed2273fb"
      },
      "outputs": [],
      "source": [
        "\n",
        "# Przykład (podmień na własny RAW URL z GitHuba):\n",
        "# raw_url = \"https://raw.githubusercontent.com/<twoj-user>/<twoje-repo>/main/mieszkania.csv\"\n",
        "# df = pd.read_csv(raw_url)\n",
        "# df.head()\n"
      ]
    },
    {
      "cell_type": "markdown",
      "id": "9fc313db",
      "metadata": {
        "id": "9fc313db"
      },
      "source": [
        "\n",
        "## 6) Prosta regresja liniowa\n",
        "Chcemy przewidzieć **cenę (tys. zł)** na podstawie **metrażu (m²)**.\n",
        "Kroki:\n",
        "1. Podziel dane na cechę X (metraż) i cel y (cena).\n",
        "2. Dopasuj model `LinearRegression`.\n",
        "3. Obejrzyj parametry (współczynnik i wyraz wolny).\n",
        "4. Zobacz wykres dopasowania.\n"
      ]
    },
    {
      "cell_type": "code",
      "execution_count": 4,
      "id": "281dd2f6",
      "metadata": {
        "colab": {
          "base_uri": "https://localhost:8080/",
          "height": 576
        },
        "id": "281dd2f6",
        "outputId": "99aa2faf-ea87-4552-b453-0e7307819858"
      },
      "outputs": [
        {
          "output_type": "stream",
          "name": "stdout",
          "text": [
            "Współczynnik (a): 5.435187608739161\n",
            "Wyraz wolny (b): 122.55816101864565\n",
            "Przewidywana cena dla 40 m²: 340.0 tys. zł\n",
            "Przewidywana cena dla 60 m²: 448.7 tys. zł\n",
            "Przewidywana cena dla 80 m²: 557.4 tys. zł\n",
            "Przewidywana cena dla 100 m²: 666.1 tys. zł\n"
          ]
        },
        {
          "output_type": "display_data",
          "data": {
            "text/plain": [
              "<Figure size 640x480 with 1 Axes>"
            ],
            "image/png": "[encoded data removed]"
          },
          "metadata": {}
        }
      ],
      "source": [
        "\n",
        "import numpy as np\n",
        "from sklearn.linear_model import LinearRegression\n",
        "import matplotlib.pyplot as plt\n",
        "\n",
        "# X: metraż (m²), y: cena (tys. zł)\n",
        "X = df[[\"metraz_m2\"]].values\n",
        "y = df[\"cena_tys\"].values\n",
        "\n",
        "model = LinearRegression()\n",
        "model.fit(X, y)\n",
        "\n",
        "print(\"Współczynnik (a):\", model.coef_[0])\n",
        "print(\"Wyraz wolny (b):\", model.intercept_)\n",
        "\n",
        "# Predykcja dla kilku przykładowych metraży\n",
        "sample = np.array([[40],[60],[80],[100]])\n",
        "pred = model.predict(sample)\n",
        "for m2, p in zip(sample.flatten(), pred):\n",
        "    print(f\"Przewidywana cena dla {m2} m²: {p:.1f} tys. zł\")\n",
        "\n",
        "# Wykres: punkty + linia regresji\n",
        "plt.figure()\n",
        "plt.scatter(X, y, label=\"Dane\")\n",
        "x_line = np.linspace(X.min(), X.max(), 100).reshape(-1,1)\n",
        "y_line = model.predict(x_line)\n",
        "plt.plot(x_line, y_line, label=\"Regresja liniowa\")\n",
        "plt.xlabel(\"Metraż (m²)\")\n",
        "plt.ylabel(\"Cena (tys. zł)\")\n",
        "plt.title(\"Prosta regresja liniowa: cena = a*metraż + b\")\n",
        "plt.legend()\n",
        "plt.show()\n"
      ]
    },
    {
      "cell_type": "markdown",
      "id": "a9bfc816",
      "metadata": {
        "id": "a9bfc816"
      },
      "source": [
        "\n",
        "### Zadanie dla Ciebie ✍️\n",
        "1. Dodaj nową kolumnę z **ceną za 1 m²** i sprawdź, jak się zmienia dla różnych metraży.\n",
        "2. Spróbuj wstawić do modelu drobną nieliniowość (np. `metraz_m2^2` jako dodatkową cechę) i zobacz, czy błąd się zmniejsza.\n",
        "3. Zapisz wykres do pliku PNG (np. `plt.savefig(\"regresja.png\")`).\n",
        "\n",
        "> Rozszerzenie: podziel dane na **train/test** (`train_test_split`) i policz metryki błędu (np. MAE, RMSE).\n"
      ]
    },
    {
      "cell_type": "code",
      "source": [
        "from sklearn.model_selection import train_test_split\n",
        "from sklearn.metrics import mean_absolute_error\n",
        "\n",
        "df[\"cena_za_m2\"] = df[\"cena_tys\"] / df[\"metraz_m2\"]\n",
        "\n",
        "X = df[[\"metraz_m2\"]].values\n",
        "y2 = df[\"cena_za_m2\"].values\n",
        "\n",
        "plt.figure()\n",
        "plt.scatter(X, y2)\n",
        "plt.xlabel(\"Metraż (m²)\")\n",
        "plt.ylabel(\"Cena za m^2 (tys. zł)\")\n",
        "plt.title(\"Metraż (x) vs cena za m^2 (y).\")\n",
        "plt.grid(True)\n",
        "plt.show()\n",
        "\n",
        "\n",
        "X_train, X_test, y_train, y_test = train_test_split(X, y)\n",
        "\n",
        "model = LinearRegression()\n",
        "model.fit(X_train, y_train)\n",
        "y_pred = model.predict(X_test)\n",
        "MAE = mean_absolute_error(y_test, y_pred)\n",
        "\n",
        "print(f\"MAE = {MAE}\")\n",
        "\n",
        "df[\"metraz_m2_2\"] = df[\"metraz_m2\"] ** 2\n",
        "y_poly = df[\"metraz_m2_2\"].values\n",
        "\n",
        "X_train, X_test, y_poly_train, y_poly_test = train_test_split(X, y_poly)\n",
        "\n",
        "model_poly = LinearRegression()\n",
        "model_poly.fit(X_train, y_poly_train)\n",
        "y_pred_poly = model.predict(X_test)\n",
        "MAE_poly = mean_absolute_error(y_poly_test, y_pred_poly)\n",
        "\n",
        "plt.figure()\n",
        "plt.scatter(X, y_poly, label=\"Dane\")\n",
        "x_line = np.linspace(X.min(), X.max(), 100).reshape(-1,1)\n",
        "plt.plot(x_line, model_poly.predict(x_line), label=\"Regresja liniowa wielomienowa\")\n",
        "plt.xlabel(\"Metraż (m²)\")\n",
        "plt.ylabel(\"Cena (tys. zł) ** 2\")\n",
        "plt.title(\"Regresja liniowa wielomienowa\")\n",
        "plt.show()\n",
        "plt.savefig(\"regresja.png\")\n",
        "print(f\"MAE dla regresji wielomianowej = {MAE}\")"
      ],
      "metadata": {
        "colab": {
          "base_uri": "https://localhost:8080/",
          "height": 979
        },
        "id": "xQDul16rlyrn",
        "outputId": "d41c0bf7-c61e-405f-da29-81654ccdc016"
      },
      "id": "xQDul16rlyrn",
      "execution_count": 18,
      "outputs": [
        {
          "output_type": "display_data",
          "data": {
            "text/plain": [
              "<Figure size 640x480 with 1 Axes>"
            ],
            "image/png": "[encoded data removed]"
          },
          "metadata": {}
        },
        {
          "output_type": "stream",
          "name": "stdout",
          "text": [
            "MAE = 1.3429208360570517\n"
          ]
        },
        {
          "output_type": "display_data",
          "data": {
            "text/plain": [
              "<Figure size 640x480 with 1 Axes>"
            ],
            "image/png": "[encoded data removed]"
          },
          "metadata": {}
        },
        {
          "output_type": "stream",
          "name": "stdout",
          "text": [
            "MAE dla regresji wielomianowej = 1.3429208360570517\n"
          ]
        },
        {
          "output_type": "display_data",
          "data": {
            "text/plain": [
              "<Figure size 640x480 with 0 Axes>"
            ]
          },
          "metadata": {}
        }
      ]
    },
    {
      "cell_type": "markdown",
      "source": [
        "```python\n",
        "df[\"cena_za_m2\"] = df[\"cena_tys\"] / df[\"metraz_m2\"]\n",
        "print(df.head())\n",
        "```"
      ],
      "metadata": {
        "id": "Mv6ziiNCj8MP"
      },
      "id": "Mv6ziiNCj8MP"
    },
    {
      "cell_type": "markdown",
      "id": "86ef5db5",
      "metadata": {
        "id": "86ef5db5"
      },
      "source": [
        "\n",
        "## 7) Zapisywanie i dzielenie się notatnikiem\n",
        "- **Plik → Zapisz kopię w GitHubie** (File → Save a copy in GitHub) – wybierz repozytorium i folder.\n",
        "- **Plik → Pobrane .ipynb** – pobierz notatnik i wgraj go ręcznie do repozytorium GitHub.\n",
        "\n",
        "## 8) Jak umieścić cały projekt na GitHubie (web UI)\n",
        "1. Zaloguj się na [github.com](https://github.com).\n",
        "2. Kliknij **New** i utwórz repozytorium (np. `colab-regresja`).\n",
        "3. Przeciągnij i upuść pliki z tego projektu: `colab_regresja.ipynb`, `mieszkania.csv`, `README.md`, `requirements.txt`, `.gitignore`.\n",
        "4. Kliknij **Commit changes**.\n",
        "5. Wejdź w `colab_regresja.ipynb` i sprawdź podgląd. Jeśli chcesz, skopiuj **RAW URL** do `mieszkania.csv` i użyj go w sekcji „Opcja B”.\n",
        "\n",
        "> Alternatywa (git w terminalu):\n",
        "> ```bash\n",
        "> git init\n",
        "> git add .\n",
        "> git commit -m \"Inicjalny commit: Colab + regresja liniowa\"\n",
        "> git branch -M main\n",
        "> git remote add origin https://github.com/<twoj-user>/<twoje-repo>.git\n",
        "> git push -u origin main\n",
        "> ```\n"
      ]
    },
    {
      "cell_type": "markdown",
      "id": "04c005a3",
      "metadata": {
        "id": "04c005a3"
      },
      "source": [
        "\n",
        "---\n",
        "Gotowe! Masz komplet: wiesz jak trafić do **Colab z Gmaila**, uruchomić kod, wykonać prostą **regresję liniową**, a także **opublikować projekt na GitHubie**.\n",
        "Powodzenia! 🚀\n"
      ]
    }
  ],
  "metadata": {
    "colab": {
      "provenance": []
    },
    "language_info": {
      "name": "python"
    },
    "kernelspec": {
      "name": "python3",
      "display_name": "Python 3"
    }
  },
  "nbformat": 4,
  "nbformat_minor": 5
}